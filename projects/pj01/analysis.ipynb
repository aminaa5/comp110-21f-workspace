{
 "cells": [
  {
   "cell_type": "code",
   "execution_count": null,
   "metadata": {},
   "outputs": [],
   "source": [
    "__author__ = \"730398576\""
   ]
  },
  {
   "cell_type": "markdown",
   "metadata": {},
   "source": [
    "# Hypothesis:\n",
    "## Do computer science majors attend office hours the most?\n",
    "### Basically, if you're a CS major, you go to office hours less than other majors."
   ]
  },
  {
   "cell_type": "code",
   "execution_count": null,
   "metadata": {},
   "outputs": [],
   "source": [
    "%reload_ext autoreload\n",
    "%autoreload 2\n",
    "print(\"Autoreload of imported modules enables. Be sure to save your modules\")"
   ]
  },
  {
   "cell_type": "markdown",
   "metadata": {},
   "source": [
    "Data files stores in the `data` directory of the workspace. The necessary data for the analysis included the majors of students in COMP110 and how often each student attends office hours."
   ]
  },
  {
   "cell_type": "code",
   "execution_count": null,
   "metadata": {},
   "outputs": [],
   "source": [
    "DATA_DIRECTORY=\"../../data\"\n",
    "DATA_FILE_PATH=f\"{DATA_DIRECTORY}/survey.csv\""
   ]
  },
  {
   "cell_type": "markdown",
   "metadata": {},
   "source": [
    "## Reading Data from a Stored CSV File into Memory\n",
    "### The purpose of these functions is to have the CSV file read, produce all values in a single column, and to transfrom the row-oriented data into column-oriented data."
   ]
  },
  {
   "cell_type": "markdown",
   "metadata": {},
   "source": [
    "`read_csv_rows` Function\n",
    "\n",
    "reads the CSV file "
   ]
  },
  {
   "cell_type": "code",
   "execution_count": null,
   "metadata": {},
   "outputs": [],
   "source": [
    "from data_utils import read_csv_rows\n",
    "data_rows: list[dict[str,str]] = read_csv_rows(DATA_FILE_PATH)\n",
    "\n",
    "if len(data_rows) == 0:\n",
    "    print(\"Go implement read_csv_rows in data_utils.py\")\n",
    "    print(\"Be sure to save your work before re-evaluating this cell!\")\n",
    "else:\n",
    "    print(f\"Data File Read: {DATA_FILE_PATH}\")\n",
    "    print(f\"{len(data_rows)} rows\")\n",
    "    print(f\"{len(data_rows[0].keys())} columns\")\n",
    "    print(f\"Column names: {data_rows[0].keys()}\")"
   ]
  },
  {
   "cell_type": "markdown",
   "metadata": {},
   "source": [
    "`column_values` Function\n",
    "\n",
    "produces first five values of the `comp_major` column"
   ]
  },
  {
   "cell_type": "code",
   "execution_count": null,
   "metadata": {},
   "outputs": [],
   "source": [
    "from data_utils import column_values\n",
    "\n",
    "comp_major: list[str] = column_values(data_rows, \"comp_major\")\n",
    "\n",
    "if len(comp_major) == 0:\n",
    "    print(\"Complete your implementation of column_values in data_utils.py\")\n",
    "else:\n",
    "    print(f\"Column 'comp_major' has {len(comp_major)} values.\")\n",
    "    print(\"The first five values are:\")\n",
    "    for i in range(5):\n",
    "        print(comp_major[i])"
   ]
  },
  {
   "cell_type": "markdown",
   "metadata": {},
   "source": [
    "`columnar` Function\n",
    "\n",
    "produces how many rows and columns are in the CSV file and the names of all of the columns"
   ]
  },
  {
   "cell_type": "code",
   "execution_count": null,
   "metadata": {},
   "outputs": [],
   "source": [
    "from data_utils import columnar\n",
    "\n",
    "data_cols: dict[str, list[str]] = columnar(data_rows)\n",
    "\n",
    "if len(data_cols.keys()) == 0:\n",
    "    print(\"Complete your implementation of columnar in data_utils.py\")\n",
    "else:\n",
    "    print(f\"{len(data_cols.keys())} columns\")\n",
    "    print(f\"{len(data_cols['comp_major'])} rows\")\n",
    "    print(f\"Column names: {data_cols.keys()}\")"
   ]
  },
  {
   "cell_type": "markdown",
   "metadata": {},
   "source": [
    "## Selecting a Data Table\n",
    "### The purpose of these functions is to produce three different column-based tables with specific parameters."
   ]
  },
  {
   "cell_type": "markdown",
   "metadata": {},
   "source": [
    "`head` Function\n",
    "\n",
    "I will produce the first five rows of the CSV file."
   ]
  },
  {
   "cell_type": "code",
   "execution_count": null,
   "metadata": {},
   "outputs": [],
   "source": [
    "from data_utils import head\n",
    "from tabulate import tabulate\n",
    "\n",
    "data_cols_head: dict[str, list[str]] = head(data_cols, 5)\n",
    "if len(data_cols_head.keys()) != len(data_cols.keys()) or len(data_cols_head[\"primary_major\"]) != 5:\n",
    "    print(\"Complete your implementation of head in data_utils.py\")\n",
    "\n",
    "tabulate(data_cols_head, data_cols_head.keys(), \"html\")\n"
   ]
  },
  {
   "cell_type": "markdown",
   "metadata": {},
   "source": [
    "`select` Function\n",
    "\n",
    "I will produce only the values for `comp_major` and `oh_visits`."
   ]
  },
  {
   "cell_type": "code",
   "execution_count": null,
   "metadata": {},
   "outputs": [],
   "source": [
    "from data_utils import select\n",
    "\n",
    "selected_data: dict[str, list[str]] = select(data_cols, [\"comp_major\", \"oh_visits\"])\n",
    "\n",
    "tabulate(head(selected_data, 10), selected_data.keys(), \"html\")\n",
    "\n"
   ]
  },
  {
   "cell_type": "markdown",
   "metadata": {},
   "source": [
    "## Simple Analysis\n",
    "### The purpose of this function is to return a dictionary of counts of each of the items in the input list."
   ]
  },
  {
   "cell_type": "markdown",
   "metadata": {},
   "source": [
    "`count` Function"
   ]
  },
  {
   "cell_type": "code",
   "execution_count": null,
   "metadata": {},
   "outputs": [],
   "source": [
    "from data_utils import count\n",
    "\n",
    "comp_major_counts: dict[str, int] = count(selected_data[\"comp_major\"])\n",
    "print(f\"comp_major_counts: {comp_major_counts}\")\n",
    "\n",
    "oh_visits_counts: dict[str, int] = count(selected_data[\"oh_visits\"])\n",
    "print(f\"oh_visits_counts: {oh_visits_counts}\")"
   ]
  },
  {
   "cell_type": "markdown",
   "metadata": {},
   "source": [
    "## The purpose of the helper function is to directly correlate computer science majors and their number of office hour visits. \n",
    "### I am isolating computer science majors and their number of office hour visits."
   ]
  },
  {
   "cell_type": "markdown",
   "metadata": {},
   "source": [
    "`helper` Function"
   ]
  },
  {
   "cell_type": "code",
   "execution_count": null,
   "metadata": {},
   "outputs": [],
   "source": [
    "from data_utils import helper\n",
    "\n",
    "comp_only: dict[str, list[str]] = helper(data_cols, \"comp_major\")\n",
    "\n",
    "comp_only\n"
   ]
  },
  {
   "cell_type": "markdown",
   "metadata": {},
   "source": [
    "# Conclusion"
   ]
  },
  {
   "cell_type": "markdown",
   "metadata": {},
   "source": [
    "In conclusion, computer science majors attend office hours less frequently than other majors. In my opinion, this could be because computer science majors are more understanding of the material, hence why it is their area of undergraduate studies. Another question I would think about after this analysis is later on in the course, when the material becomes more difficult, will computer science majors begin to make use of office hours?"
   ]
  }
 ],
 "metadata": {
  "interpreter": {
   "hash": "aee8b7b246df8f9039afb4144a1f6fd8d2ca17a180786b69acc140d282b71a49"
  },
  "kernelspec": {
   "display_name": "Python 3.9.6 64-bit",
   "name": "python3"
  },
  "language_info": {
   "codemirror_mode": {
    "name": "ipython",
    "version": 3
   },
   "file_extension": ".py",
   "mimetype": "text/x-python",
   "name": "python",
   "nbconvert_exporter": "python",
   "pygments_lexer": "ipython3",
   "version": "3.9.6"
  },
  "orig_nbformat": 4
 },
 "nbformat": 4,
 "nbformat_minor": 2
}
